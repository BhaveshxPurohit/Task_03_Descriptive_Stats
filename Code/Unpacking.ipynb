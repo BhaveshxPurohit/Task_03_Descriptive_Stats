{
 "cells": [
  {
   "cell_type": "code",
   "execution_count": 1,
   "id": "bb1835b6",
   "metadata": {},
   "outputs": [
    {
     "name": "stdout",
     "output_type": "stream",
     "text": [
      "                                               ad_id  \\\n",
      "0  0ddb025b8544e2d58e6977ad417e742a52522b3e1fc1c9...   \n",
      "1  86229868e6bde3661724fe02da93504bb4fb5da8c2550d...   \n",
      "2  07b5aefc27e872e971f793e49aac38496fa62e484f3928...   \n",
      "3  21ec16288ef000ef52e90f0366112115f98001fb9ceb64...   \n",
      "4  cec88e0dc69463eca43511cefe95839e94cbdbff6abcab...   \n",
      "\n",
      "                                             page_id     region  region_spend  \\\n",
      "0  4ff23a48b53d988df50ddfebb0e442a984ab8f94e874ef...      Texas           249   \n",
      "1  4ff23a48b53d988df50ddfebb0e442a984ab8f94e874ef...      Texas            49   \n",
      "2  4ff23a48b53d988df50ddfebb0e442a984ab8f94e874ef...      Texas           149   \n",
      "3  7167146d80bba9d877a246d9682c7eecf3cae7b63337cf...  Minnesota            49   \n",
      "4  8109a1809ae54265da9ab4b69f5e7f6c3c42d013a07f64...  Minnesota            49   \n",
      "\n",
      "   region_impressions  \n",
      "0               47499  \n",
      "1               22499  \n",
      "2               32499  \n",
      "3                 499  \n",
      "4                 499  \n"
     ]
    }
   ],
   "source": [
    "import ast  # to safely evaluate the string dictionaries\n",
    "import pandas as pd\n",
    "\n",
    "# Load the CSV (already done in your earlier code)\n",
    "file_path = r\"C:\\Users\\puroh\\OneDrive\\Documents\\Syracuse\\RA\\Task_03_Descriptive_Stats\\Data\\2024_fb_ads_president_scored_anon.csv\"\n",
    "df = pd.read_csv(file_path)\n",
    "\n",
    "# Define the updated function to include page_id\n",
    "def unpack_delivery_by_region(row):\n",
    "    try:\n",
    "        delivery = ast.literal_eval(row['delivery_by_region'])\n",
    "    except (ValueError, SyntaxError):\n",
    "        return pd.DataFrame()  # Skip if the field isn't valid\n",
    "\n",
    "    ad_id = row.get('ad_id')\n",
    "    page_id = row.get('page_id')  # ✅ include page_id\n",
    "    data = []\n",
    "    for region, stats in delivery.items():\n",
    "        data.append({\n",
    "            'ad_id': ad_id,\n",
    "            'page_id': page_id,  # ✅ include page_id in output\n",
    "            'region': region,\n",
    "            'region_spend': stats.get('spend', None),\n",
    "            'region_impressions': stats.get('impressions', None)\n",
    "        })\n",
    "    return pd.DataFrame(data)\n",
    "\n",
    "# Apply the function to each row and concatenate results\n",
    "delivery_dfs = [unpack_delivery_by_region(row) for _, row in df.iterrows()]\n",
    "delivery_by_region_df = pd.concat(delivery_dfs, ignore_index=True)\n",
    "\n",
    "# Preview\n",
    "print(delivery_by_region_df.head())\n"
   ]
  },
  {
   "cell_type": "code",
   "execution_count": 2,
   "id": "cda50bf6",
   "metadata": {},
   "outputs": [
    {
     "name": "stdout",
     "output_type": "stream",
     "text": [
      "                                               ad_id  \\\n",
      "0  0ddb025b8544e2d58e6977ad417e742a52522b3e1fc1c9...   \n",
      "1  0ddb025b8544e2d58e6977ad417e742a52522b3e1fc1c9...   \n",
      "2  0ddb025b8544e2d58e6977ad417e742a52522b3e1fc1c9...   \n",
      "3  0ddb025b8544e2d58e6977ad417e742a52522b3e1fc1c9...   \n",
      "4  0ddb025b8544e2d58e6977ad417e742a52522b3e1fc1c9...   \n",
      "\n",
      "                                             page_id   gender age_range  \\\n",
      "0  4ff23a48b53d988df50ddfebb0e442a984ab8f94e874ef...   female     18-24   \n",
      "1  4ff23a48b53d988df50ddfebb0e442a984ab8f94e874ef...     male     45-54   \n",
      "2  4ff23a48b53d988df50ddfebb0e442a984ab8f94e874ef...     male       65+   \n",
      "3  4ff23a48b53d988df50ddfebb0e442a984ab8f94e874ef...   female       65+   \n",
      "4  4ff23a48b53d988df50ddfebb0e442a984ab8f94e874ef...  unknown     55-64   \n",
      "\n",
      "   demo_spend  demo_impressions  \n",
      "0          28              5507  \n",
      "1          14              2757  \n",
      "2           3               714  \n",
      "3           3               725  \n",
      "4           0                21  \n"
     ]
    }
   ],
   "source": [
    "import ast  # ensure this is already imported\n",
    "import pandas as pd\n",
    "\n",
    "# Function to unpack demographic distribution with page_id included\n",
    "def unpack_demographics(row):\n",
    "    try:\n",
    "        demo = ast.literal_eval(row['demographic_distribution'])\n",
    "    except (ValueError, SyntaxError):\n",
    "        return pd.DataFrame()  # skip malformed rows\n",
    "\n",
    "    ad_id = row.get('ad_id')\n",
    "    page_id = row.get('page_id')  # ✅ include page_id\n",
    "    data = []\n",
    "\n",
    "    for demo_group, stats in demo.items():\n",
    "        if '_' in demo_group:\n",
    "            gender, age_range = demo_group.split('_', 1)\n",
    "        else:\n",
    "            gender, age_range = 'unknown', demo_group\n",
    "\n",
    "        data.append({\n",
    "            'ad_id': ad_id,\n",
    "            'page_id': page_id,  # ✅ added\n",
    "            'gender': gender,\n",
    "            'age_range': age_range,\n",
    "            'demo_spend': stats.get('spend', None),\n",
    "            'demo_impressions': stats.get('impressions', None)\n",
    "        })\n",
    "\n",
    "    return pd.DataFrame(data)\n",
    "\n",
    "# Apply and collect into a new dataframe\n",
    "demographic_dfs = [unpack_demographics(row) for _, row in df.iterrows()]\n",
    "demographic_df = pd.concat(demographic_dfs, ignore_index=True)\n",
    "\n",
    "# Preview\n",
    "print(demographic_df.head())\n"
   ]
  },
  {
   "cell_type": "code",
   "execution_count": 3,
   "id": "062fb86b",
   "metadata": {},
   "outputs": [
    {
     "name": "stdout",
     "output_type": "stream",
     "text": [
      "                                               ad_id  \\\n",
      "0  0ddb025b8544e2d58e6977ad417e742a52522b3e1fc1c9...   \n",
      "1  0ddb025b8544e2d58e6977ad417e742a52522b3e1fc1c9...   \n",
      "2  86229868e6bde3661724fe02da93504bb4fb5da8c2550d...   \n",
      "3  86229868e6bde3661724fe02da93504bb4fb5da8c2550d...   \n",
      "4  07b5aefc27e872e971f793e49aac38496fa62e484f3928...   \n",
      "\n",
      "                                             page_id   platform  \n",
      "0  4ff23a48b53d988df50ddfebb0e442a984ab8f94e874ef...   facebook  \n",
      "1  4ff23a48b53d988df50ddfebb0e442a984ab8f94e874ef...  instagram  \n",
      "2  4ff23a48b53d988df50ddfebb0e442a984ab8f94e874ef...   facebook  \n",
      "3  4ff23a48b53d988df50ddfebb0e442a984ab8f94e874ef...  instagram  \n",
      "4  4ff23a48b53d988df50ddfebb0e442a984ab8f94e874ef...   facebook  \n"
     ]
    }
   ],
   "source": [
    "# Function to unpack publisher platforms with page_id\n",
    "def unpack_platforms(row):\n",
    "    try:\n",
    "        platforms = ast.literal_eval(row['publisher_platforms'])\n",
    "    except (ValueError, SyntaxError):\n",
    "        return pd.DataFrame()\n",
    "    \n",
    "    ad_id = row.get('ad_id')\n",
    "    page_id = row.get('page_id')  # ✅ include page_id\n",
    "    \n",
    "    return pd.DataFrame([\n",
    "        {'ad_id': ad_id, 'page_id': page_id, 'platform': platform}  # ✅ updated\n",
    "        for platform in platforms\n",
    "    ])\n",
    "\n",
    "# Apply and concatenate\n",
    "platform_dfs = [unpack_platforms(row) for _, row in df.iterrows()]\n",
    "platform_df = pd.concat(platform_dfs, ignore_index=True)\n",
    "\n",
    "# Preview\n",
    "print(platform_df.head())\n"
   ]
  },
  {
   "cell_type": "code",
   "execution_count": 4,
   "id": "710aa2c6",
   "metadata": {},
   "outputs": [
    {
     "name": "stdout",
     "output_type": "stream",
     "text": [
      "                                               ad_id  \\\n",
      "0  0ddb025b8544e2d58e6977ad417e742a52522b3e1fc1c9...   \n",
      "1  0ddb025b8544e2d58e6977ad417e742a52522b3e1fc1c9...   \n",
      "2  86229868e6bde3661724fe02da93504bb4fb5da8c2550d...   \n",
      "3  86229868e6bde3661724fe02da93504bb4fb5da8c2550d...   \n",
      "4  07b5aefc27e872e971f793e49aac38496fa62e484f3928...   \n",
      "\n",
      "                                             page_id        mention  \n",
      "0  4ff23a48b53d988df50ddfebb0e442a984ab8f94e874ef...  Kamala Harris  \n",
      "1  4ff23a48b53d988df50ddfebb0e442a984ab8f94e874ef...       Tim Walz  \n",
      "2  4ff23a48b53d988df50ddfebb0e442a984ab8f94e874ef...  Kamala Harris  \n",
      "3  4ff23a48b53d988df50ddfebb0e442a984ab8f94e874ef...       Tim Walz  \n",
      "4  4ff23a48b53d988df50ddfebb0e442a984ab8f94e874ef...  Kamala Harris  \n"
     ]
    }
   ],
   "source": [
    "# Function to unpack illuminating mentions with page_id\n",
    "def unpack_mentions(row):\n",
    "    try:\n",
    "        mentions = ast.literal_eval(row['illuminating_mentions'])\n",
    "    except (ValueError, SyntaxError):\n",
    "        return pd.DataFrame()\n",
    "    \n",
    "    ad_id = row.get('ad_id')\n",
    "    page_id = row.get('page_id')  # ✅ include page_id\n",
    "    \n",
    "    return pd.DataFrame([\n",
    "        {'ad_id': ad_id, 'page_id': page_id, 'mention': mention}  # ✅ updated\n",
    "        for mention in mentions\n",
    "    ])\n",
    "\n",
    "# Apply and concatenate\n",
    "mention_dfs = [unpack_mentions(row) for _, row in df.iterrows()]\n",
    "mention_df = pd.concat(mention_dfs, ignore_index=True)\n",
    "\n",
    "# Preview\n",
    "print(mention_df.head())\n"
   ]
  },
  {
   "cell_type": "code",
   "execution_count": 5,
   "id": "f3b7c93f",
   "metadata": {},
   "outputs": [
    {
     "name": "stdout",
     "output_type": "stream",
     "text": [
      "✅ All datasets saved separately.\n"
     ]
    }
   ],
   "source": [
    "# Step 1: Drop unpacked columns from main df\n",
    "df_cleaned = df.drop(columns=[\n",
    "    'demographic_distribution',\n",
    "    'publisher_platforms',\n",
    "    'illuminating_mentions',\n",
    "    'delivery_by_region'\n",
    "])\n",
    "\n",
    "# Save cleaned main ad-level data (without unpacked columns)\n",
    "df_cleaned.to_csv('main_ads_cleaned.csv', index=False)\n",
    "\n",
    "# Save unpacked demographic details\n",
    "demographic_df.to_csv('unpacked_demographics.csv', index=False)\n",
    "\n",
    "# Save unpacked platform list\n",
    "platform_df.to_csv('unpacked_platforms.csv', index=False)\n",
    "\n",
    "# Save unpacked mentions\n",
    "mention_df.to_csv('unpacked_mentions.csv', index=False)\n",
    "\n",
    "# Save unpacked delivery by region\n",
    "delivery_by_region_df.to_csv('unpacked_delivery_by_region.csv', index=False)\n",
    "\n",
    "print(\"✅ All datasets saved separately.\")\n"
   ]
  }
 ],
 "metadata": {
  "kernelspec": {
   "display_name": "Python 3",
   "language": "python",
   "name": "python3"
  },
  "language_info": {
   "codemirror_mode": {
    "name": "ipython",
    "version": 3
   },
   "file_extension": ".py",
   "mimetype": "text/x-python",
   "name": "python",
   "nbconvert_exporter": "python",
   "pygments_lexer": "ipython3",
   "version": "3.12.2"
  }
 },
 "nbformat": 4,
 "nbformat_minor": 5
}
